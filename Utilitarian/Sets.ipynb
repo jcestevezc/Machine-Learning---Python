{
 "cells": [
  {
   "cell_type": "markdown",
   "metadata": {},
   "source": [
    "## Uso de conjuntos"
   ]
  },
  {
   "cell_type": "code",
   "execution_count": null,
   "metadata": {},
   "outputs": [],
   "source": [
    "conjunto = set()\n",
    "\n",
    "for _ in range(int(input())):\n",
    "    country = input()\n",
    "    conjunto.add(country)\n",
    "\n",
    "print(len(conjunto))"
   ]
  },
  {
   "cell_type": "code",
   "execution_count": null,
   "metadata": {},
   "outputs": [],
   "source": [
    "conjunto = set()\n",
    "\n",
    "numero = input()\n",
    "entrada = set(map(int, input().split()))    \n",
    "conjunto = set(entrada)\n",
    "\n",
    "numero = input()\n",
    "entrada = set(map(int, input().split()))    \n",
    "conjunto = conjunto.difference(entrada)\n",
    "    \n",
    "print(len(conjunto))"
   ]
  },
  {
   "cell_type": "code",
   "execution_count": null,
   "metadata": {},
   "outputs": [],
   "source": [
    "def average(array):\n",
    "    conjunto = set(array)\n",
    "    return sum(conjunto)/len(conjunto)"
   ]
  },
  {
   "cell_type": "markdown",
   "metadata": {},
   "source": [
    "## Contenencia entre conjuntos"
   ]
  },
  {
   "cell_type": "code",
   "execution_count": null,
   "metadata": {},
   "outputs": [],
   "source": [
    "n = int(input())\n",
    "for i in range(1,n+1):\n",
    "    tamano = int(input())\n",
    "    conjunto = list(map(int, input().split()))\n",
    "    tamano = int(input())\n",
    "    conjunto2 = list(map(int, input().split()))\n",
    "    print(set(conjunto) <= set(conjunto2))"
   ]
  },
  {
   "cell_type": "markdown",
   "metadata": {},
   "source": [
    "### Diferencia simetrica"
   ]
  },
  {
   "cell_type": "code",
   "execution_count": null,
   "metadata": {},
   "outputs": [],
   "source": [
    "conjunto = set()\n",
    "\n",
    "numero = input()\n",
    "entrada = set(map(int, input().split()))    \n",
    "conjunto = set(entrada)\n",
    "\n",
    "numero = input()\n",
    "entrada = set(map(int, input().split()))    \n",
    "conjunto = conjunto.symmetric_difference(entrada)\n",
    "    \n",
    "print(len(conjunto))"
   ]
  },
  {
   "cell_type": "code",
   "execution_count": null,
   "metadata": {},
   "outputs": [],
   "source": [
    "n = int(input())\n",
    "s = set(map(int, input().split()))\n",
    "\n",
    "for _ in range(int(input())):\n",
    "    operation, *line = input().split()\n",
    "    if operation == 'pop':\n",
    "        s.pop()\n",
    "    if operation == 'remove':\n",
    "        value = list(map(int, line))\n",
    "        s.remove(value[0])\n",
    "    if operation == 'discard':\n",
    "        value = list(map(int, line))\n",
    "        s.discard(value[0])\n",
    "print(sum(s))"
   ]
  },
  {
   "cell_type": "markdown",
   "metadata": {},
   "source": [
    "### Diferencia"
   ]
  },
  {
   "cell_type": "code",
   "execution_count": null,
   "metadata": {},
   "outputs": [],
   "source": [
    "s = set(\"Hacker\")\n",
    "print s.union(\"Rank\")\n",
    "set(['a', 'R', 'c', 'r', 'e', 'H', 'k', 'n'])\n",
    "\n",
    "print s.union(set(['R', 'a', 'n', 'k']))\n",
    "set(['a', 'R', 'c', 'r', 'e', 'H', 'k', 'n'])\n",
    "\n",
    "print s.union(['R', 'a', 'n', 'k'])\n",
    "set(['a', 'R', 'c', 'r', 'e', 'H', 'k', 'n'])\n",
    "\n",
    "print s.union(enumerate(['R', 'a', 'n', 'k']))\n",
    "set(['a', 'c', 'r', 'e', (1, 'a'), (2, 'n'), 'H', 'k', (3, 'k'), (0, 'R')])\n",
    "\n",
    "print s.union({\"Rank\":1})\n",
    "set(['a', 'c', 'r', 'e', 'H', 'k', 'Rank'])\n",
    "\n",
    "s | set(\"Rank\")\n",
    "set(['a', 'R', 'c', 'r', 'e', 'H', 'k', 'n'])"
   ]
  }
 ],
 "metadata": {
  "kernelspec": {
   "display_name": "Python 3",
   "language": "python",
   "name": "python3"
  },
  "language_info": {
   "codemirror_mode": {
    "name": "ipython",
    "version": 3
   },
   "file_extension": ".py",
   "mimetype": "text/x-python",
   "name": "python",
   "nbconvert_exporter": "python",
   "pygments_lexer": "ipython3",
   "version": "3.7.3"
  }
 },
 "nbformat": 4,
 "nbformat_minor": 2
}
