{
 "cells": [
  {
   "cell_type": "code",
   "execution_count": 1,
   "metadata": {},
   "outputs": [],
   "source": [
    "import re\n",
    "import pandas as pd"
   ]
  },
  {
   "cell_type": "markdown",
   "metadata": {},
   "source": [
    "#### Lectura del archivo de datos"
   ]
  },
  {
   "cell_type": "code",
   "execution_count": 2,
   "metadata": {},
   "outputs": [],
   "source": [
    "data = pd.read_json(\"output_spa_html.txt\", typ='series', encoding='utf8')\n",
    "data = data.text"
   ]
  },
  {
   "cell_type": "markdown",
   "metadata": {},
   "source": [
    "#### Limpieza de código html del texto"
   ]
  },
  {
   "cell_type": "code",
   "execution_count": 3,
   "metadata": {},
   "outputs": [
    {
     "data": {
      "text/plain": [
       "' URGENTE          Bogota, D.C., 15 de Marzo de 2002          Of. No. 4020/CO-SAT-160/02       Doctor  ARMANDO ESTRADA VILLA Ministro del Interior  Ciudad  Asunto: Seguimiento de Alerta Temprana No.016  El dia 12 de febrero de 2002, el Sistema de Alertas Tempranas remitid a su despacho copia de una alerta de primer grado, dada la gravedad de los hechos e indicios de inminencia de         00:00   00:00   00:00  ocurrencia de violaciones masivas de Derechos Humanos en contra de los manifestantes y                          campesinos que participaban en el Paro Civico Hevado a cabo en Tame por parte de las AUC, para que se activaran los dispositivos y medidas de proteccién y asistencia a la comunidad en riesgo.  El dia 26 de febrero, esta oficina envid a su despacho un oficio en el que se reportaba la agudizacién del riesgo y la insuficiencia de la respuesta y los dispositivos de seguridad y proteccion adoptados.  En una y otra comunicacion, el SAT advirtié sobre el riesgo inminente que se configuraba sobre la poblacién que participaba en el paro civico, luego de su disolucion y del retorno a sus lugares de origen. A la fecha, el monitero con fines de desactivacion de la alerta luego de la disolucién del Paro, evidencia la ocurrencia de 11 asesinatos selectivos en los municipios del Sarare, lo que ratifica la vigencia del riesgo sefialada para la poblacién en su proceso de retorno y en la recuperacion de su cotidianidad en sus lugares de residencia habitual.  Sede Central: Calle 55 No 10-32 Of. 115 Tels: 3147300 Ext. 2437 Telefax 6915300 E- mail: defensat@yahoo.com \\x0cLa gravedad de los hechos mencionados determina la vigencia de la alerta de primer grado,        y por ende, se recomienda el refuerzo de los dispositivos de seguridad y medidas de proteccién , orientadas a la mitigacién y alejamiento de la amenaza de ocurrencia de violaciones masivas de los derechos Humanos contra los pobladores del Sarare, mucho mas, después de la disolucién de la movilizacion y del Paro Civico.         Agradecemos su deferente atencién y quedamos a la espera de la respuesta sobre el tramite adelantado al respecto. _  C  Cordialmente,                 DANIEL MEDINA GONZALEZ elegado para la Participacién Ciudadana 6r Sistema de Alertas Tempranas         Sede Central: Calle 55 No 10-32 Of. 115 Tels: 3147300 Ext. 2437 Telefax 6915300 E- mail: defensat@yahoo.com      4G  '"
      ]
     },
     "execution_count": 3,
     "metadata": {},
     "output_type": "execute_result"
    }
   ],
   "source": [
    "data = data.replace('<br />',' ').replace('<p>',' ').replace('</p>',' ')\n",
    "data = data.replace('<span class=\"timestamp\" data-timestamp=\"0\">',' ').replace('</span>',' ')\n",
    "data"
   ]
  }
 ],
 "metadata": {
  "kernelspec": {
   "display_name": "Python 3",
   "language": "python",
   "name": "python3"
  },
  "language_info": {
   "codemirror_mode": {
    "name": "ipython",
    "version": 3
   },
   "file_extension": ".py",
   "mimetype": "text/x-python",
   "name": "python",
   "nbconvert_exporter": "python",
   "pygments_lexer": "ipython3",
   "version": "3.7.3"
  }
 },
 "nbformat": 4,
 "nbformat_minor": 2
}
