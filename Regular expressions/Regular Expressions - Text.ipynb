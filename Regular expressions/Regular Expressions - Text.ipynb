{
 "cells": [
  {
   "cell_type": "code",
   "execution_count": 1,
   "metadata": {},
   "outputs": [],
   "source": [
    "# ! pip install re\n",
    "import re"
   ]
  },
  {
   "cell_type": "markdown",
   "metadata": {},
   "source": [
    "#### Lectura del archivo de datos"
   ]
  },
  {
   "cell_type": "code",
   "execution_count": 2,
   "metadata": {},
   "outputs": [
    {
     "name": "stdout",
     "output_type": "stream",
     "text": [
      "urgente\n",
      "\n",
      "bogotá, d.c., 15 de marzo de 2002\n",
      "\n",
      "of. no. 4020/co-sat-160/02\n",
      "\n",
      "doctor\n",
      "\n",
      "armando estrada villa\n",
      "ministro del interior\n",
      "\n",
      "ciudad\n",
      "\n",
      "asunto: seguimiento de alerta temprana no.016\n",
      "\n",
      "el día 12 de febrero de 2002, el sistema de alertas tempranas remitió a su despacho copia\n",
      "de una alerta de\f",
      " primer grado, dada la gravedad de los hechos e indicios de inminencia de\n",
      "ocurrencia de violaciones masivas de derechos humanos en contra de los manifestantes y\n",
      "campesinos que participaban en el paro cívico llevado a cabo en tame por parte de las\n",
      "auc, para que se activaran los dispositivos y medidas de protección y asistencia a la\n",
      "comunidad en riesgo.\n",
      "\n",
      "el día 26 de febrero, esta oficina envió \f",
      "a su despacho un oficio en el que se reportaba la\n",
      "agudización del riesgo y la insuficiencia de la respuesta y los dispositivos de seguridad y\n",
      "protección adoptados.\n",
      "\n",
      "en una y otra comunicación, el sat advirtió sobre el riesgo inminente que se configuraba\n",
      "sobre la población que participaba en el paro cívico, luego de su disolución y del retorno a\n",
      "sus lugares de origen. a la fecha, el monitero con fines de desactivación de la alerta luego\n",
      "de la disolución del paro, evidencia la ocurrencia de 11 asesinatos selectivos en los\n",
      "municipios del sarare, lo que ratifica la vigencia del riesgo señalada para la población en su\n",
      "proceso de retorno y en la recuperación de su cotidianidad en sus lugares de residencia\n",
      "habitual.\n",
      "\n",
      "sede central: calle 55 no 10-32 of. 115\n",
      "tels: 3147300 ext. 2437 telefax 6915300\n",
      "e- mail: defensat(q yahoo.com\n",
      "\f",
      "la gravedad de los hechos mencionados determina la vigencia de la alerta de primer grado,\n",
      "y por ende, se recomienda el refuerzo de los dispositivos de seguridad y medidas de\n",
      "protección , orientadas a la mitigación y alejamiento de la amenaza de ocurrencia de\n",
      "violaciones masivas de los derechos humanos contra los pobladores del sarare, mucho\n",
      "más, después de la disolución de la movilización y del\f",
      " paro cívico.\n",
      "\n",
      "agradecemos su deferente atención y quedamos a la espera de la respuesta sobre el trámite\n",
      "adelantado al respecto. —\f",
      "\n",
      "\n",
      "(\n",
      "\n",
      "cordialmente,\f",
      "\n",
      "\n",
      "  \n",
      "\n",
      "daniel medina gonzález\n",
      "elegado para la participación ciudadana\n",
      "ór sistema de alertas tempranas\n",
      "\n",
      "sede central: calle 55 no 10-32 of. 115\n",
      "tels: 3147300 ext. 2437 telefax 6915300\n",
      "e- mail: defensat(d yahoo.com\n",
      "\n",
      "ub\n",
      "\n"
     ]
    }
   ],
   "source": [
    "text = open(\"output_spa.txt\", \"r\",encoding='utf-8')\n",
    "text = text.read()\n",
    "text = text.lower()\n",
    "print(text)"
   ]
  },
  {
   "cell_type": "markdown",
   "metadata": {},
   "source": [
    "#### Extracción de las fechas de alerta temprana"
   ]
  },
  {
   "cell_type": "code",
   "execution_count": 3,
   "metadata": {},
   "outputs": [
    {
     "name": "stdout",
     "output_type": "stream",
     "text": [
      "Fechas de alerta temprana 1: 12 de febrero\n",
      "Fechas de alerta temprana 2: 26 de febrero\n"
     ]
    }
   ],
   "source": [
    "x = re.findall(r\"([0-9]{2}( de )(febrero))\", text)\n",
    "print(\"Fechas de alerta temprana 1:\",x[0][0])\n",
    "print(\"Fechas de alerta temprana 2:\",x[1][0])"
   ]
  },
  {
   "cell_type": "markdown",
   "metadata": {},
   "source": [
    "#### Extracción de las ciudades de alerta temprana"
   ]
  },
  {
   "cell_type": "code",
   "execution_count": 4,
   "metadata": {},
   "outputs": [
    {
     "name": "stdout",
     "output_type": "stream",
     "text": [
      "Ciudades de alerta temprana 1: ['tame', 'sarare', 'sarare']\n"
     ]
    }
   ],
   "source": [
    "x = re.findall(\"tame|sarare\", text)\n",
    "print(\"Ciudades de alerta temprana 1:\",x)"
   ]
  },
  {
   "cell_type": "markdown",
   "metadata": {},
   "source": [
    "#### Extracción del codigo de alerta temprana"
   ]
  },
  {
   "cell_type": "code",
   "execution_count": 5,
   "metadata": {},
   "outputs": [
    {
     "name": "stdout",
     "output_type": "stream",
     "text": [
      "Alfanuméricos de alerta temprana: ['4020/co-sat-160/02']\n"
     ]
    }
   ],
   "source": [
    "x = re.findall(r\"([0-9]{4}[/]co-sat-[0-9]{3}[/][0-9]{2})\", text)\n",
    "print(\"Alfanuméricos de alerta temprana:\",x)"
   ]
  },
  {
   "cell_type": "markdown",
   "metadata": {},
   "source": [
    "#### Limpieza de caracteres especiales en el texto"
   ]
  },
  {
   "cell_type": "code",
   "execution_count": 6,
   "metadata": {},
   "outputs": [
    {
     "name": "stdout",
     "output_type": "stream",
     "text": [
      "urgente\n",
      "\n",
      "bogota  d c   15 de marzo de 2002\n",
      "\n",
      "of  no  4020 co sat 160 02\n",
      "\n",
      "doctor\n",
      "\n",
      "armando estrada villa\n",
      "ministro del interior\n",
      "\n",
      "ciudad\n",
      "\n",
      "asunto  seguimiento de alerta temprana no 016\n",
      "\n",
      "el dia 12 de febrero de 2002  el sistema de alertas tempranas remitio a su despacho copia\n",
      "de una alerta de\f",
      " primer grado  dada la gravedad de los hechos e indicios de inminencia de\n",
      "ocurrencia de violaciones masivas de derechos humanos en contra de los manifestantes y\n",
      "campesinos que participaban en el paro civico llevado a cabo en tame por parte de las\n",
      "auc  para que se activaran los dispositivos y medidas de proteccion y asistencia a la\n",
      "comunidad en riesgo \n",
      "\n",
      "el dia 26 de febrero  esta oficina envio \f",
      "a su despacho un oficio en el que se reportaba la\n",
      "agudizacion del riesgo y la insuficiencia de la respuesta y los dispositivos de seguridad y\n",
      "proteccion adoptados \n",
      "\n",
      "en una y otra comunicacion  el sat advirtio sobre el riesgo inminente que se configuraba\n",
      "sobre la poblacion que participaba en el paro civico  luego de su disolucion y del retorno a\n",
      "sus lugares de origen  a la fecha  el monitero con fines de desactivacion de la alerta luego\n",
      "de la disolucion del paro  evidencia la ocurrencia de 11 asesinatos selectivos en los\n",
      "municipios del sarare  lo que ratifica la vigencia del riesgo señalada para la poblacion en su\n",
      "proceso de retorno y en la recuperacion de su cotidianidad en sus lugares de residencia\n",
      "habitual \n",
      "\n",
      "sede central  calle 55 no 10 32 of  115\n",
      "tels  3147300 ext  2437 telefax 6915300\n",
      "e  mail  defensat q yahoo com\n",
      "\f",
      "la gravedad de los hechos mencionados determina la vigencia de la alerta de primer grado \n",
      "y por ende  se recomienda el refuerzo de los dispositivos de seguridad y medidas de\n",
      "proteccion   orientadas a la mitigacion y alejamiento de la amenaza de ocurrencia de\n",
      "violaciones masivas de los derechos humanos contra los pobladores del sarare  mucho\n",
      "mas  despues de la disolucion de la movilizacion y del\f",
      " paro civico \n",
      "\n",
      "agradecemos su deferente atencion y quedamos a la espera de la respuesta sobre el tramite\n",
      "adelantado al respecto  —\f",
      "\n",
      "\n",
      " \n",
      "\n",
      "cordialmente \f",
      "\n",
      "\n",
      "  \n",
      "\n",
      "daniel medina gonzalez\n",
      "elegado para la participacion ciudadana\n",
      "or sistema de alertas tempranas\n",
      "\n",
      "sede central  calle 55 no 10 32 of  115\n",
      "tels  3147300 ext  2437 telefax 6915300\n",
      "e  mail  defensat d yahoo com\n",
      "\n",
      "ub\n",
      "\n"
     ]
    }
   ],
   "source": [
    "x = re.sub(r\"[-!#$%&'()*+,./:;<=>?@\\[\\\\\\]_`{|}~]\", \" \", text)\n",
    "x = x.replace('á','a').replace('é','e').replace('í','i').replace('ó','o').replace('ú','u')\n",
    "print(x)"
   ]
  }
 ],
 "metadata": {
  "kernelspec": {
   "display_name": "Python 3",
   "language": "python",
   "name": "python3"
  },
  "language_info": {
   "codemirror_mode": {
    "name": "ipython",
    "version": 3
   },
   "file_extension": ".py",
   "mimetype": "text/x-python",
   "name": "python",
   "nbconvert_exporter": "python",
   "pygments_lexer": "ipython3",
   "version": "3.7.3"
  }
 },
 "nbformat": 4,
 "nbformat_minor": 2
}
