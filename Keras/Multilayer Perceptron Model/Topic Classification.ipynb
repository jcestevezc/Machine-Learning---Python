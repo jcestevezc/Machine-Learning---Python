{
  "nbformat": 4,
  "nbformat_minor": 0,
  "metadata": {
    "colab": {
      "name": "Topic_Classification.ipynb",
      "provenance": [],
      "collapsed_sections": [],
      "include_colab_link": true
    },
    "kernelspec": {
      "name": "python3",
      "display_name": "Python 3"
    }
  },
  "cells": [
    {
      "cell_type": "markdown",
      "metadata": {
        "id": "view-in-github",
        "colab_type": "text"
      },
      "source": [
        "<a href=\"https://colab.research.google.com/github/jcestevezc/Machine-Learning-Python/blob/master/Keras/Multilayer%20Perceptron%20Model/Topic%20Classification.ipynb\" target=\"_parent\"><img src=\"https://colab.research.google.com/assets/colab-badge.svg\" alt=\"Open In Colab\"/></a>"
      ]
    },
    {
      "cell_type": "markdown",
      "metadata": {
        "id": "Q_TXpazmI4hi",
        "colab_type": "text"
      },
      "source": [
        "<h2 align=center> Topic Classification with Tensorflow and Keras</h2>"
      ]
    },
    {
      "cell_type": "markdown",
      "metadata": {
        "id": "FkDMtyFAI6eZ",
        "colab_type": "text"
      },
      "source": [
        "## Task 1: Project Overview and Import Modules"
      ]
    },
    {
      "cell_type": "code",
      "metadata": {
        "id": "u-Q0ZQ81AJAD",
        "colab_type": "code",
        "colab": {
          "base_uri": "https://localhost:8080/",
          "height": 34
        },
        "outputId": "d6984238-2675-4f18-d541-f36b1241089d"
      },
      "source": [
        "%tensorflow_version 2.x \n",
        "%matplotlib inline\n",
        "import matplotlib.pyplot as plt\n",
        "import numpy as np\n",
        "np.random.seed(0)\n",
        "import tensorflow as tf\n",
        "from tensorflow.keras.datasets import reuters\n",
        "from tensorflow.keras.models import Sequential\n",
        "from tensorflow.keras.layers import Dense, Dropout, Activation\n",
        "from tensorflow.keras.preprocessing.text import Tokenizer\n",
        "\n",
        "print('Tensorflow version:', tf.__version__)"
      ],
      "execution_count": 1,
      "outputs": [
        {
          "output_type": "stream",
          "text": [
            "Tensorflow version: 2.2.0\n"
          ],
          "name": "stdout"
        }
      ]
    },
    {
      "cell_type": "markdown",
      "metadata": {
        "id": "O_87ArymJ_HP",
        "colab_type": "text"
      },
      "source": [
        "## Task 2: Load the Reuters Dataset"
      ]
    },
    {
      "cell_type": "code",
      "metadata": {
        "id": "mvnfT5lcAJx1",
        "colab_type": "code",
        "colab": {}
      },
      "source": [
        "(x_train, y_train), (x_test, y_test) = reuters.load_data(num_words=10000, test_split=0.2)"
      ],
      "execution_count": 2,
      "outputs": []
    },
    {
      "cell_type": "code",
      "metadata": {
        "id": "erJ1-0Asgt4L",
        "colab_type": "code",
        "colab": {
          "base_uri": "https://localhost:8080/",
          "height": 34
        },
        "outputId": "bbe5a00a-f053-40d2-eecd-b06745deefde"
      },
      "source": [
        "y_train"
      ],
      "execution_count": 3,
      "outputs": [
        {
          "output_type": "execute_result",
          "data": {
            "text/plain": [
              "array([ 3,  4,  3, ..., 25,  3, 25])"
            ]
          },
          "metadata": {
            "tags": []
          },
          "execution_count": 3
        }
      ]
    },
    {
      "cell_type": "code",
      "metadata": {
        "id": "qiyU9CRPAJ1x",
        "colab_type": "code",
        "colab": {
          "base_uri": "https://localhost:8080/",
          "height": 50
        },
        "outputId": "40637340-99d4-4141-f0f3-0f6c0fb9779b"
      },
      "source": [
        "print(len(x_train), 'train sequences')\n",
        "print(len(x_test), 'test sequences')"
      ],
      "execution_count": 4,
      "outputs": [
        {
          "output_type": "stream",
          "text": [
            "8982 train sequences\n",
            "2246 test sequences\n"
          ],
          "name": "stdout"
        }
      ]
    },
    {
      "cell_type": "code",
      "metadata": {
        "id": "ga2yF0GDAJ4x",
        "colab_type": "code",
        "colab": {
          "base_uri": "https://localhost:8080/",
          "height": 34
        },
        "outputId": "a1a4c0e4-6790-4d7b-8d73-a2ee114f7ab9"
      },
      "source": [
        "num_classes = np.max(y_train) + 1\n",
        "print(num_classes, 'classes')"
      ],
      "execution_count": 5,
      "outputs": [
        {
          "output_type": "stream",
          "text": [
            "46 classes\n"
          ],
          "name": "stdout"
        }
      ]
    },
    {
      "cell_type": "markdown",
      "metadata": {
        "id": "gxOfk01xO8M4",
        "colab_type": "text"
      },
      "source": [
        "## Task 3: Vectorize Sequence Data and One-hot Encode Class Labels"
      ]
    },
    {
      "cell_type": "code",
      "metadata": {
        "id": "SwY0M11JAJ6z",
        "colab_type": "code",
        "colab": {
          "base_uri": "https://localhost:8080/",
          "height": 67
        },
        "outputId": "36b31f98-c752-41b3-d1c5-b1abb99d8335"
      },
      "source": [
        "print('Vectorizing sequence data...')\n",
        "tokenizer = Tokenizer(num_words=10000)\n",
        "x_train = tokenizer.sequences_to_matrix(x_train, mode='binary')\n",
        "x_test = tokenizer.sequences_to_matrix(x_test, mode='binary')\n",
        "print('x_train shape:', x_train.shape)\n",
        "print('x_test shape:', x_test.shape)"
      ],
      "execution_count": 6,
      "outputs": [
        {
          "output_type": "stream",
          "text": [
            "Vectorizing sequence data...\n",
            "x_train shape: (8982, 10000)\n",
            "x_test shape: (2246, 10000)\n"
          ],
          "name": "stdout"
        }
      ]
    },
    {
      "cell_type": "code",
      "metadata": {
        "id": "CAomOeW5hHqa",
        "colab_type": "code",
        "colab": {
          "base_uri": "https://localhost:8080/",
          "height": 134
        },
        "outputId": "7a420882-e77c-4351-ec6b-484bb8569672"
      },
      "source": [
        "x_train"
      ],
      "execution_count": 7,
      "outputs": [
        {
          "output_type": "execute_result",
          "data": {
            "text/plain": [
              "array([[0., 1., 1., ..., 0., 0., 0.],\n",
              "       [0., 1., 1., ..., 0., 0., 0.],\n",
              "       [0., 1., 1., ..., 0., 0., 0.],\n",
              "       ...,\n",
              "       [0., 1., 1., ..., 0., 0., 0.],\n",
              "       [0., 1., 1., ..., 0., 0., 0.],\n",
              "       [0., 1., 1., ..., 0., 0., 0.]])"
            ]
          },
          "metadata": {
            "tags": []
          },
          "execution_count": 7
        }
      ]
    },
    {
      "cell_type": "code",
      "metadata": {
        "id": "CqSLs8-MAJ-W",
        "colab_type": "code",
        "colab": {
          "base_uri": "https://localhost:8080/",
          "height": 67
        },
        "outputId": "22ab03a9-83ee-4a93-bd78-89272249fdd3"
      },
      "source": [
        "print('Convert class vector to binary class matrix for use with categorical_crossentropy')\n",
        "y_train = tf.keras.utils.to_categorical(y_train, num_classes)\n",
        "y_test = tf.keras.utils.to_categorical(y_test, num_classes)\n",
        "print('y_train shape:', y_train.shape)\n",
        "print('y_test shape:', y_test.shape)"
      ],
      "execution_count": 8,
      "outputs": [
        {
          "output_type": "stream",
          "text": [
            "Convert class vector to binary class matrix for use with categorical_crossentropy\n",
            "y_train shape: (8982, 46)\n",
            "y_test shape: (2246, 46)\n"
          ],
          "name": "stdout"
        }
      ]
    },
    {
      "cell_type": "code",
      "metadata": {
        "id": "8qeVSrZ-hy7p",
        "colab_type": "code",
        "colab": {
          "base_uri": "https://localhost:8080/",
          "height": 134
        },
        "outputId": "6c99aebd-8388-4ff0-b5c2-454665676bfa"
      },
      "source": [
        "y_train "
      ],
      "execution_count": 9,
      "outputs": [
        {
          "output_type": "execute_result",
          "data": {
            "text/plain": [
              "array([[0., 0., 0., ..., 0., 0., 0.],\n",
              "       [0., 0., 0., ..., 0., 0., 0.],\n",
              "       [0., 0., 0., ..., 0., 0., 0.],\n",
              "       ...,\n",
              "       [0., 0., 0., ..., 0., 0., 0.],\n",
              "       [0., 0., 0., ..., 0., 0., 0.],\n",
              "       [0., 0., 0., ..., 0., 0., 0.]], dtype=float32)"
            ]
          },
          "metadata": {
            "tags": []
          },
          "execution_count": 9
        }
      ]
    },
    {
      "cell_type": "markdown",
      "metadata": {
        "id": "1qbdtF5MQBZW",
        "colab_type": "text"
      },
      "source": [
        "## Task 4: Build Multilayer Perceptron Model"
      ]
    },
    {
      "cell_type": "code",
      "metadata": {
        "id": "kzaPJpw99KKt",
        "colab_type": "code",
        "colab": {}
      },
      "source": [
        "model = Sequential()\n",
        "model.add(Dense(512, input_shape=(10000,)))\n",
        "model.add(Activation('relu'))\n",
        "model.add(Dropout(0.5))\n",
        "model.add(Dense(num_classes))\n",
        "model.add(Activation('softmax'))"
      ],
      "execution_count": 10,
      "outputs": []
    },
    {
      "cell_type": "code",
      "metadata": {
        "id": "_ozHzIAwBF0z",
        "colab_type": "code",
        "colab": {
          "base_uri": "https://localhost:8080/",
          "height": 319
        },
        "outputId": "3cdc7c40-b4c3-4fbc-a7d5-d7d3b983c856"
      },
      "source": [
        "model.summary()"
      ],
      "execution_count": 11,
      "outputs": [
        {
          "output_type": "stream",
          "text": [
            "Model: \"sequential\"\n",
            "_________________________________________________________________\n",
            "Layer (type)                 Output Shape              Param #   \n",
            "=================================================================\n",
            "dense (Dense)                (None, 512)               5120512   \n",
            "_________________________________________________________________\n",
            "activation (Activation)      (None, 512)               0         \n",
            "_________________________________________________________________\n",
            "dropout (Dropout)            (None, 512)               0         \n",
            "_________________________________________________________________\n",
            "dense_1 (Dense)              (None, 46)                23598     \n",
            "_________________________________________________________________\n",
            "activation_1 (Activation)    (None, 46)                0         \n",
            "=================================================================\n",
            "Total params: 5,144,110\n",
            "Trainable params: 5,144,110\n",
            "Non-trainable params: 0\n",
            "_________________________________________________________________\n"
          ],
          "name": "stdout"
        }
      ]
    },
    {
      "cell_type": "markdown",
      "metadata": {
        "id": "5-mKD7L2QKsJ",
        "colab_type": "text"
      },
      "source": [
        "## Task 5: Train Model"
      ]
    },
    {
      "cell_type": "code",
      "metadata": {
        "id": "Bjf3XLC--B6Q",
        "colab_type": "code",
        "colab": {
          "base_uri": "https://localhost:8080/",
          "height": 50
        },
        "outputId": "0ec3d8ce-2540-4907-a986-ea97451122a7"
      },
      "source": [
        "%%time\n",
        "from tensorflow.keras.callbacks import ModelCheckpoint, EarlyStopping\n",
        "\n",
        "early_stopping = EarlyStopping(monitor='val_loss',patience=3, verbose=1, mode='min', baseline=None, restore_best_weights=False)\n",
        "callbacks = [early_stopping]\n",
        "\n",
        "model.compile(optimizer='adam',\n",
        "              loss='categorical_crossentropy',\n",
        "              metrics=['accuracy'])"
      ],
      "execution_count": 12,
      "outputs": [
        {
          "output_type": "stream",
          "text": [
            "CPU times: user 16.7 ms, sys: 0 ns, total: 16.7 ms\n",
            "Wall time: 16.7 ms\n"
          ],
          "name": "stdout"
        }
      ]
    },
    {
      "cell_type": "code",
      "metadata": {
        "id": "Y75bm-j7CKHJ",
        "colab_type": "code",
        "colab": {
          "base_uri": "https://localhost:8080/",
          "height": 202
        },
        "outputId": "f48cbff5-e9a0-4e9b-fd17-0aff41f926ce"
      },
      "source": [
        "history = model.fit(x_train, y_train,\n",
        "                    epochs=20,\n",
        "                    batch_size=32,\n",
        "                    validation_split=0.1,\n",
        "                    callbacks=callbacks)"
      ],
      "execution_count": 13,
      "outputs": [
        {
          "output_type": "stream",
          "text": [
            "Epoch 1/20\n",
            "253/253 [==============================] - 9s 35ms/step - loss: 1.2924 - accuracy: 0.7204 - val_loss: 0.9437 - val_accuracy: 0.7976\n",
            "Epoch 2/20\n",
            "253/253 [==============================] - 9s 35ms/step - loss: 0.4959 - accuracy: 0.8896 - val_loss: 0.8519 - val_accuracy: 0.8154\n",
            "Epoch 3/20\n",
            "253/253 [==============================] - 9s 35ms/step - loss: 0.2844 - accuracy: 0.9360 - val_loss: 0.9156 - val_accuracy: 0.8098\n",
            "Epoch 4/20\n",
            "253/253 [==============================] - 9s 35ms/step - loss: 0.2318 - accuracy: 0.9475 - val_loss: 0.9649 - val_accuracy: 0.8098\n",
            "Epoch 5/20\n",
            "253/253 [==============================] - 9s 34ms/step - loss: 0.2098 - accuracy: 0.9508 - val_loss: 0.9810 - val_accuracy: 0.8065\n",
            "Epoch 00005: early stopping\n"
          ],
          "name": "stdout"
        }
      ]
    },
    {
      "cell_type": "markdown",
      "metadata": {
        "id": "XNRw1etxQQqe",
        "colab_type": "text"
      },
      "source": [
        "## Task 6: Evaluate Model on Test Data"
      ]
    },
    {
      "cell_type": "code",
      "metadata": {
        "id": "FdMOQHKiAKLI",
        "colab_type": "code",
        "colab": {
          "base_uri": "https://localhost:8080/",
          "height": 67
        },
        "outputId": "abbc71bc-d033-4258-ec79-e2c6e09e35d9"
      },
      "source": [
        "score = model.evaluate(x_test, y_test, batch_size=32, verbose=1)\n",
        "print('Test loss: {:4f}\\nTest Accuracy: {:4f}'.format(score[0], score[1]))"
      ],
      "execution_count": 14,
      "outputs": [
        {
          "output_type": "stream",
          "text": [
            "71/71 [==============================] - 1s 11ms/step - loss: 0.9473 - accuracy: 0.8077\n",
            "Test loss: 0.947280\n",
            "Test Accuracy: 0.807658\n"
          ],
          "name": "stdout"
        }
      ]
    },
    {
      "cell_type": "code",
      "metadata": {
        "id": "Qg3uXnvOAKNe",
        "colab_type": "code",
        "colab": {
          "base_uri": "https://localhost:8080/",
          "height": 295
        },
        "outputId": "836e0934-2151-416b-e94b-5f7acb842822"
      },
      "source": [
        "plt.plot(history.history['loss'], label='Training loss')\n",
        "plt.plot(history.history['val_loss'], label='Validation loss')\n",
        "plt.title('Training and validation loss')\n",
        "plt.xlabel('Epochs')\n",
        "plt.ylabel('Loss')\n",
        "plt.legend()\n",
        "plt.show()"
      ],
      "execution_count": 15,
      "outputs": [
        {
          "output_type": "display_data",
          "data": {
            "image/png": "[encoded data removed]",
            "text/plain": [
              "<Figure size 432x288 with 1 Axes>"
            ]
          },
          "metadata": {
            "tags": [],
            "needs_background": "light"
          }
        }
      ]
    },
    {
      "cell_type": "code",
      "metadata": {
        "id": "eyM2tPyeAKRV",
        "colab_type": "code",
        "colab": {
          "base_uri": "https://localhost:8080/",
          "height": 295
        },
        "outputId": "755007ce-35a8-4f63-9591-20504426e175"
      },
      "source": [
        "plt.plot(history.history['accuracy'], label='Training accuracy')\n",
        "plt.plot(history.history['val_accuracy'], label='Validation accuracy')\n",
        "plt.title('Training and validation accuracy')\n",
        "plt.xlabel('Epochs')\n",
        "plt.ylabel('Accuracy')\n",
        "plt.legend()\n",
        "plt.show()"
      ],
      "execution_count": 16,
      "outputs": [
        {
          "output_type": "display_data",
          "data": {
            "image/png": "[encoded data removed]",
            "text/plain": [
              "<Figure size 432x288 with 1 Axes>"
            ]
          },
          "metadata": {
            "tags": [],
            "needs_background": "light"
          }
        }
      ]
    }
  ]
}