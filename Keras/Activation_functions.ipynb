{
  "nbformat": 4,
  "nbformat_minor": 0,
  "metadata": {
    "colab": {
      "name": "Activation functions.ipynb",
      "provenance": [],
      "authorship_tag": "ABX9TyNSTs8pZEUZuG/s+c6OF4p0",
      "include_colab_link": true
    },
    "kernelspec": {
      "name": "python3",
      "display_name": "Python 3"
    }
  },
  "cells": [
    {
      "cell_type": "markdown",
      "metadata": {
        "id": "view-in-github",
        "colab_type": "text"
      },
      "source": [
        "<a href=\"https://colab.research.google.com/github/jcestevezc/Machine-Learning-Python/blob/master/Keras/Activation_functions.ipynb\" target=\"_parent\"><img src=\"https://colab.research.google.com/assets/colab-badge.svg\" alt=\"Open In Colab\"/></a>"
      ]
    },
    {
      "cell_type": "markdown",
      "metadata": {
        "id": "nJ0rPiqt1u-u",
        "colab_type": "text"
      },
      "source": [
        "![alt text](https://github.com/jcestevezc/Machine-Learning-Python/blob/master/Keras/Activation%20functions/Activation%20Function.png?raw=true)\n",
        "\n"
      ]
    },
    {
      "cell_type": "markdown",
      "metadata": {
        "id": "_RPV4CxF21mG",
        "colab_type": "text"
      },
      "source": [
        "![alt text](https://github.com/jcestevezc/Machine-Learning-Python/blob/master/Keras/Activation%20functions/Lineal.PNG?raw=true)"
      ]
    },
    {
      "cell_type": "markdown",
      "metadata": {
        "id": "CPT-aOAs28H_",
        "colab_type": "text"
      },
      "source": [
        "![alt text](https://github.com/jcestevezc/Machine-Learning-Python/blob/master/Keras/Activation%20functions/LossFunctions.png?raw=true)"
      ]
    },
    {
      "cell_type": "markdown",
      "metadata": {
        "id": "uE866ktz3uDx",
        "colab_type": "text"
      },
      "source": [
        "![alt text](https://github.com/jcestevezc/Machine-Learning-Python/blob/master/Keras/Activation%20functions/Recommendations.PNG?raw=true)"
      ]
    }
  ]
}