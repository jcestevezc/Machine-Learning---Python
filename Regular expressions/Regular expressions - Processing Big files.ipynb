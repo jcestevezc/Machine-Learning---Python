{
 "cells": [
  {
   "cell_type": "code",
   "execution_count": 1,
   "metadata": {},
   "outputs": [],
   "source": [
    "# ! pip install re\n",
    "import re\n",
    "# ! pip install pandas\n",
    "import pandas as pd\n",
    "# ! pip install os\n",
    "import os"
   ]
  },
  {
   "cell_type": "markdown",
   "metadata": {},
   "source": [
    "#### Creación de variables y configuraciones iniciales"
   ]
  },
  {
   "cell_type": "code",
   "execution_count": 2,
   "metadata": {},
   "outputs": [],
   "source": [
    "titulos = []\n",
    "nss = []\n",
    "timestamps = []\n",
    "usernames = []\n",
    "data_html = pd.DataFrame() \n",
    "filename = r\"C:\\Users\\juanc\\Downloads\\Borrar\\wikidatawiki-20200301-pages-articles-multistream1.xml-p1p235321\\data.xml\""
   ]
  },
  {
   "cell_type": "markdown",
   "metadata": {},
   "source": [
    "#### Lectura del archivo y extracción de los campos mediante expresiones regulares. Posteriormente se hace la creación del dataframe y persistencia de los datos en un archivo csv"
   ]
  },
  {
   "cell_type": "code",
   "execution_count": 3,
   "metadata": {},
   "outputs": [
    {
     "name": "stdout",
     "output_type": "stream",
     "text": [
      "File Size is 9837.076156616211 MB\n",
      "Number of Lines in the file is 4452917\n"
     ]
    }
   ],
   "source": [
    "file_name = filename\n",
    "\n",
    "print(f'File Size is {os.stat(file_name).st_size / (1024 * 1024)} MB')\n",
    "\n",
    "txt_file = open(file_name, \"r\",encoding=\"UTF-8\")\n",
    "\n",
    "count = 0\n",
    "\n",
    "for line in txt_file:\n",
    "    titulo = re.findall(r\"<title[^>]*>(.*?)</title>\", line)\n",
    "    ns = re.findall(r\"<ns[^>]*>(.*?)</ns>\", line)\n",
    "    timestamp = re.findall(r\"<timestamp[^>]*>(.*?)</timestamp>\", line)\n",
    "    username = re.findall(r\"<username[^>]*>(.*?)</username>\", line)\n",
    "    \n",
    "    if titulo != []:\n",
    "        titulos.append(titulo[0])\n",
    "        titulo = []\n",
    "    if ns != []:\n",
    "        nss.append(ns[0])\n",
    "        ns = []\n",
    "    if timestamp != []:\n",
    "        timestamps.append(timestamp[0])\n",
    "        timestamp = []\n",
    "    if username != []:\n",
    "        usernames.append(username[0])\n",
    "        username = []\n",
    "    count += 1\n",
    "\n",
    "dictionary = {'titulos': titulos, 'nss': nss, 'timestamps': timestamps}  \n",
    "data_html = pd.DataFrame(dictionary) \n",
    "data_html.to_csv('Data_Wikipedia.csv') \n",
    "\n",
    "txt_file.close()\n",
    "\n",
    "print(f'Number of Lines in the file is {count}')"
   ]
  }
 ],
 "metadata": {
  "kernelspec": {
   "display_name": "Python 3",
   "language": "python",
   "name": "python3"
  },
  "language_info": {
   "codemirror_mode": {
    "name": "ipython",
    "version": 3
   },
   "file_extension": ".py",
   "mimetype": "text/x-python",
   "name": "python",
   "nbconvert_exporter": "python",
   "pygments_lexer": "ipython3",
   "version": "3.7.3"
  }
 },
 "nbformat": 4,
 "nbformat_minor": 2
}
