{
 "cells": [
  {
   "cell_type": "markdown",
   "metadata": {},
   "source": [
    "### Building the base learner"
   ]
  },
  {
   "cell_type": "code",
   "execution_count": null,
   "metadata": {},
   "outputs": [],
   "source": [
    "# Build and fit a Decision Tree classifier\n",
    "clf_dt = DecisionTreeClassifier(min_samples_leaf = 3, min_samples_split = 9, random_state=500)\n",
    "clf_dt.fit(X_train,y_train)\n",
    "\n",
    "# Build and fit a 5-nearest neighbors classifier using the 'Ball-Tree' algorithm\n",
    "clf_knn = KNeighborsClassifier(n_neighbors = 5, algorithm = 'ball_tree')\n",
    "clf_knn.fit(X_train,y_train)\n",
    "\n",
    "# Evaluate the performance using the accuracy score\n",
    "print('Decision Tree: {:0.4f}'.format(accuracy_score(y_test, clf_dt.predict(X_test))))\n",
    "print('5-Nearest Neighbors: {:0.4f}'.format(accuracy_score(y_test, clf_knn.predict(X_test))))"
   ]
  },
  {
   "cell_type": "markdown",
   "metadata": {},
   "source": [
    "### Se crea un dataframe que contiene las columnas predichas por los modelos base learner y se cruzan a partir del indice."
   ]
  },
  {
   "cell_type": "code",
   "execution_count": null,
   "metadata": {},
   "outputs": [],
   "source": [
    "# Create a Pandas DataFrame with the predictions\n",
    "pred_df = pd.DataFrame({\n",
    "    'pred_dt': pred_dt,\n",
    "    'pred_knn': pred_knn\n",
    "}, index=X_train.index)"
   ]
  },
  {
   "cell_type": "markdown",
   "metadata": {},
   "source": [
    "### Se crea un solo dataframe de entrenamiento, que contiene los datos de entrenamiento originales, mas las columnas resultados de las predicciones de los base learners"
   ]
  },
  {
   "cell_type": "code",
   "execution_count": null,
   "metadata": {},
   "outputs": [],
   "source": [
    "# Concatenate X_train with the predictions DataFrame\n",
    "X_train_2nd = pd.concat([X_train, pred_df], axis=1)"
   ]
  },
  {
   "cell_type": "markdown",
   "metadata": {},
   "source": [
    "### Finalmente, se crea el modelo meta estimador o Stacking Model Learner"
   ]
  },
  {
   "cell_type": "code",
   "execution_count": null,
   "metadata": {},
   "outputs": [],
   "source": [
    "# Build the second-layer meta estimator\n",
    "clf_stack = DecisionTreeClassifier(random_state = 500)\n",
    "clf_stack.fit(X_train_2nd,y_train)"
   ]
  },
  {
   "cell_type": "markdown",
   "metadata": {},
   "source": [
    "### Es necesario ajustar los datos de prueba para poder realizar la validación de la calidad del modelo."
   ]
  },
  {
   "cell_type": "code",
   "execution_count": null,
   "metadata": {},
   "outputs": [],
   "source": [
    "# Create a Pandas DataFrame with the predictions\n",
    "pred_df = pd.DataFrame({\n",
    "    'pred_dt': pred_dt,\n",
    "    'pred_knn': pred_knn\n",
    "}, index=X_test.index)\n",
    "\n",
    "# Concatenate X_test with the predictions DataFrame\n",
    "X_test_2nd = pd.concat([X_test, pred_df], axis=1)\n",
    "\n",
    "# Obtain the final predictions from the second-layer estimator\n",
    "pred_stack = clf_stack.predict(X_test_2nd)\n",
    "\n",
    "# Evaluate the new performance on the test set\n",
    "print('Accuracy: {:0.4f}'.format(accuracy_score(y_test, pred_stack)))"
   ]
  }
 ],
 "metadata": {
  "kernelspec": {
   "display_name": "Python 3",
   "language": "python",
   "name": "python3"
  },
  "language_info": {
   "codemirror_mode": {
    "name": "ipython",
    "version": 3
   },
   "file_extension": ".py",
   "mimetype": "text/x-python",
   "name": "python",
   "nbconvert_exporter": "python",
   "pygments_lexer": "ipython3",
   "version": "3.7.3"
  }
 },
 "nbformat": 4,
 "nbformat_minor": 2
}
