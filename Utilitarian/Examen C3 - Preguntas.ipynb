{
 "cells": [
  {
   "cell_type": "code",
   "execution_count": null,
   "metadata": {},
   "outputs": [],
   "source": [
    "# read the string filename\n",
    "import pandas as pd\n",
    "filename = input()\n",
    "\n",
    "data = pd.read_csv(filename, sep=' ',header=None)\n",
    "print(data[3].head())\n",
    "data[3]= data[3].str.replace('[', '')\n",
    "group = data.groupby(3).count()\n",
    "group =  group[group[0]>=2]\n",
    "#group = group.rename(columns={\"3\": \"Date\"})\n",
    "print(group.head())\n",
    "print(group.columns)\n",
    "print(type(group))\n",
    "print(group[group.columns[0]])\n",
    "data = group[group.columns[0]]\n",
    "print(data.dtypes)\n",
    "data = str(data[0]).str.split(\"\\t\")\n",
    "print(data)\n",
    "data.to_csv('req_hosts_access_log_00.txt', header=False)"
   ]
  },
  {
   "cell_type": "code",
   "execution_count": 2,
   "metadata": {},
   "outputs": [],
   "source": [
    "conjunto =set([1,2,9,1,2,3,1,4,1,5,7])"
   ]
  },
  {
   "cell_type": "code",
   "execution_count": 2,
   "metadata": {},
   "outputs": [
    {
     "data": {
      "text/plain": [
       "{1, 2, 3, 4, 5, 7, 9}"
      ]
     },
     "execution_count": 2,
     "metadata": {},
     "output_type": "execute_result"
    }
   ],
   "source": [
    "conjunto =set([1,2,9,1,2,3,1,4,1,5,7])\n",
    "conjunto"
   ]
  },
  {
   "cell_type": "code",
   "execution_count": 3,
   "metadata": {},
   "outputs": [
    {
     "data": {
      "text/plain": [
       "{1, 2, 3, 4, 5, 7, 9}"
      ]
     },
     "execution_count": 3,
     "metadata": {},
     "output_type": "execute_result"
    }
   ],
   "source": [
    "conjunto"
   ]
  },
  {
   "cell_type": "code",
   "execution_count": 10,
   "metadata": {},
   "outputs": [
    {
     "name": "stdout",
     "output_type": "stream",
     "text": [
      "1562\n",
      "687\n",
      "188\n",
      "499\n",
      "311\n",
      "123\n",
      "65\n",
      "58\n",
      "7\n",
      "51\n",
      "44\n",
      "37\n",
      "30\n",
      "23\n",
      "16\n",
      "9\n",
      "2\n",
      "5\n",
      "3\n",
      "1\n",
      "1\n",
      "1\n"
     ]
    }
   ],
   "source": [
    "a = 2437\n",
    "b = 875\n",
    "x = a\n",
    "y = b\n",
    "\n",
    "for _ in range(0,1000):\n",
    "    if (x > y):\n",
    "        x = x-y\n",
    "        print(x)\n",
    "    if (x < y):\n",
    "        y = y-x\n",
    "        print(y)\n",
    "    if x == y:\n",
    "        print(x)\n",
    "        break"
   ]
  },
  {
   "cell_type": "code",
   "execution_count": 12,
   "metadata": {},
   "outputs": [
    {
     "name": "stdout",
     "output_type": "stream",
     "text": [
      "foofoofoo\n",
      "8\n"
     ]
    }
   ],
   "source": [
    "print(\"foo\"*3)\n",
    "print(2**3)"
   ]
  },
  {
   "cell_type": "code",
   "execution_count": null,
   "metadata": {},
   "outputs": [],
   "source": [
    "from sklearn import svm\n",
    "X = [[-1, 1], [1, -1], [-1, -1]]\n",
    "y = [[1, 1], [2, 0], [2, 1]]\n",
    "clf = svm.SVC(gamma='scale')\n",
    "clf.fit(X, y)\n",
    "#clf.support_vectors_\n",
    "#clf.fit(X, y) "
   ]
  },
  {
   "cell_type": "code",
   "execution_count": 27,
   "metadata": {},
   "outputs": [],
   "source": [
    "import statistics\n",
    "import math\n",
    "\n",
    "def  getStats(x):\n",
    "    y = []\n",
    "    for i in range (0,len(x)):\n",
    "        y.insert(i, math.cos((math.pi/2)*x[i]**2) + math.sin((math.pi/4)*x[i])+x[i]**3)\n",
    "    y_mean = round(statistics.mean(y),1)\n",
    "    y_std = round(statistics.stdev(y), 1)\n",
    "    y_median = round(statistics.median(y), 1)\n",
    "    \n",
    "    return (y_mean, y_std, y_median)"
   ]
  },
  {
   "cell_type": "code",
   "execution_count": null,
   "metadata": {},
   "outputs": [],
   "source": [
    "from sklearn import svm\n",
    "\n",
    "X = [[-1, 1], [1, -1], [-1, -1]]\n",
    "y = [1, 1]\n",
    "\n",
    "clf = svm.SVC(kernel='linear')\n",
    "clf.fit(X, y)\n",
    "clf.support_vectors_"
   ]
  },
  {
   "cell_type": "code",
   "execution_count": null,
   "metadata": {},
   "outputs": [],
   "source": [
    "from sklearn import svm\n",
    "\n",
    "X = [[-1, 1], [1, -1],[-1, -1]]\n",
    "y = [[1, 1],[2, 1]]\n",
    "\n",
    "clf = svm.SVC(kernel='linear')\n",
    "clf.fit(X, y)\n",
    "print(clf.support_vectors_)"
   ]
  },
  {
   "cell_type": "code",
   "execution_count": 49,
   "metadata": {},
   "outputs": [
    {
     "data": {
      "text/plain": [
       "[0, 0, 0, 0, 0, 0, 0, 0, 0, 0]"
      ]
     },
     "execution_count": 49,
     "metadata": {},
     "output_type": "execute_result"
    }
   ],
   "source": [
    "n = 10\n",
    "lista = [0]*n\n",
    "lista\n",
    "result = []\n",
    "results = list(map(int, results))"
   ]
  },
  {
   "cell_type": "code",
   "execution_count": 51,
   "metadata": {},
   "outputs": [
    {
     "name": "stdout",
     "output_type": "stream",
     "text": [
      "0\n",
      "1\n",
      "2\n",
      "3\n",
      "4\n",
      "5\n",
      "6\n",
      "7\n",
      "8\n",
      "9\n"
     ]
    }
   ],
   "source": [
    "n = 10\n",
    "operations = [0]*n\n",
    "for i in range (0,len(operations)):\n",
    "    print (i)"
   ]
  },
  {
   "cell_type": "code",
   "execution_count": 42,
   "metadata": {},
   "outputs": [
    {
     "name": "stdout",
     "output_type": "stream",
     "text": [
      "[-5, 4, -2, 3, 1, -1, -6, -1, 0, 5]\n",
      "********** \n",
      "Minimo  6\n",
      "********** \n",
      "Casilla  -5\n",
      "\n",
      "Vida  1\n",
      "indice  0\n",
      "Casilla  4\n",
      "\n",
      "Vida  5\n",
      "indice  1\n",
      "Casilla  -2\n",
      "\n",
      "Vida  3\n",
      "indice  2\n",
      "Casilla  3\n",
      "\n",
      "Vida  6\n",
      "indice  3\n",
      "Casilla  1\n",
      "\n",
      "Vida  7\n",
      "indice  4\n",
      "Casilla  -1\n",
      "\n",
      "Vida  6\n",
      "indice  5\n",
      "Casilla  -6\n",
      "********** \n",
      "Minimo  7\n",
      "********** \n",
      "Casilla  -5\n",
      "\n",
      "Vida  2\n",
      "indice  0\n",
      "Casilla  4\n",
      "\n",
      "Vida  6\n",
      "indice  1\n",
      "Casilla  -2\n",
      "\n",
      "Vida  4\n",
      "indice  2\n",
      "Casilla  3\n",
      "\n",
      "Vida  7\n",
      "indice  3\n",
      "Casilla  1\n",
      "\n",
      "Vida  8\n",
      "indice  4\n",
      "Casilla  -1\n",
      "\n",
      "Vida  7\n",
      "indice  5\n",
      "Casilla  -6\n",
      "\n",
      "Vida  1\n",
      "indice  6\n",
      "Casilla  -1\n",
      "********** \n",
      "Minimo  8\n",
      "********** \n",
      "Casilla  -5\n",
      "\n",
      "Vida  3\n",
      "indice  0\n",
      "Casilla  4\n",
      "\n",
      "Vida  7\n",
      "indice  1\n",
      "Casilla  -2\n",
      "\n",
      "Vida  5\n",
      "indice  2\n",
      "Casilla  3\n",
      "\n",
      "Vida  8\n",
      "indice  3\n",
      "Casilla  1\n",
      "\n",
      "Vida  9\n",
      "indice  4\n",
      "Casilla  -1\n",
      "\n",
      "Vida  8\n",
      "indice  5\n",
      "Casilla  -6\n",
      "\n",
      "Vida  2\n",
      "indice  6\n",
      "Casilla  -1\n",
      "\n",
      "Vida  1\n",
      "indice  7\n",
      "Casilla  0\n",
      "\n",
      "Vida  1\n",
      "indice  8\n",
      "Casilla  5\n",
      "\n",
      "Vida  6\n",
      "indice  9\n",
      "\n",
      "El minimo de vida es:  8\n"
     ]
    }
   ],
   "source": [
    "    dungeon = [5, -5, 4, -2, 3,1]\n",
    "    dungeon = [-5, 4, -2,3,1,-1,-6,-1,0,5]\n",
    "    print(dungeon)\n",
    "    minimo = abs(min(dungeon))\n",
    "    life = minimo\n",
    "    \n",
    "    \n",
    "    restart = True\n",
    "    while restart:\n",
    "        print(\"********** \")\n",
    "        print(\"Minimo \" , minimo)\n",
    "        print(\"********** \")\n",
    "        for i in range(0,len(dungeon)):\n",
    "            print(\"Casilla \" ,dungeon[i])\n",
    "            life = life + dungeon[i]\n",
    "            \n",
    "            if life <= 0:\n",
    "                minimo+=1\n",
    "                life = minimo\n",
    "                restart = True\n",
    "                break\n",
    "            else:\n",
    "                restart = False\n",
    "            print('')\n",
    "            print(\"Vida \" ,life)\n",
    "            print(\"indice \" ,i)\n",
    "        \n",
    "    print('')\n",
    "    print(\"El minimo de vida es: \",minimo)"
   ]
  },
  {
   "cell_type": "code",
   "execution_count": null,
   "metadata": {},
   "outputs": [],
   "source": [
    "def minHealth(dungeon):\n",
    "    # Write your code here\n",
    "    minimo = 0\n",
    "    life = minimo\n",
    "    restart = True\n",
    "    \n",
    "    while restart:\n",
    "        for i in range(0,len(dungeon)):\n",
    "            life = life + dungeon[i]\n",
    "            \n",
    "            if life <= 0:\n",
    "                minimo+=1\n",
    "                life = minimo\n",
    "                restart = True\n",
    "                break\n",
    "            else:\n",
    "                restart = False\n",
    "    \n",
    "    return minimo\n"
   ]
  }
 ],
 "metadata": {
  "kernelspec": {
   "display_name": "Python 3",
   "language": "python",
   "name": "python3"
  },
  "language_info": {
   "codemirror_mode": {
    "name": "ipython",
    "version": 3
   },
   "file_extension": ".py",
   "mimetype": "text/x-python",
   "name": "python",
   "nbconvert_exporter": "python",
   "pygments_lexer": "ipython3",
   "version": "3.7.3"
  }
 },
 "nbformat": 4,
 "nbformat_minor": 2
}
