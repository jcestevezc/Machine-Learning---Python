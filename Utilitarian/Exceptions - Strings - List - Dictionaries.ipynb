{
 "cells": [
  {
   "cell_type": "markdown",
   "metadata": {},
   "source": [
    "### Lectura de información"
   ]
  },
  {
   "cell_type": "code",
   "execution_count": null,
   "metadata": {},
   "outputs": [],
   "source": [
    "tamano = int(input())\n",
    "conjunto = list(map(int, input().split()))"
   ]
  },
  {
   "cell_type": "code",
   "execution_count": null,
   "metadata": {},
   "outputs": [],
   "source": [
    "import re\n",
    "\n",
    "for _ in range(int(input())):  \n",
    "    try:\n",
    "        print(bool(re.compile(input())))\n",
    "    except:\n",
    "        print('False')"
   ]
  },
  {
   "cell_type": "markdown",
   "metadata": {},
   "source": [
    "### Palindromo numerico"
   ]
  },
  {
   "cell_type": "code",
   "execution_count": null,
   "metadata": {},
   "outputs": [],
   "source": [
    "N,n = int(input()),input().split()\n",
    "print (all([int(i)>0 for i in n]) and any([j == j[::-1] for j in n]))"
   ]
  },
  {
   "cell_type": "markdown",
   "metadata": {},
   "source": [
    "### Usando Numpy"
   ]
  },
  {
   "cell_type": "code",
   "execution_count": null,
   "metadata": {},
   "outputs": [],
   "source": [
    "conjunto = numpy.array(input().split(),float)\n",
    "\n",
    "print(numpy.floor(conjunto))\n",
    "print(numpy.ceil(conjunto))\n",
    "print(numpy.rint(conjunto))"
   ]
  },
  {
   "cell_type": "markdown",
   "metadata": {},
   "source": [
    "### Uso de excepciones"
   ]
  },
  {
   "cell_type": "code",
   "execution_count": null,
   "metadata": {},
   "outputs": [],
   "source": [
    "n = int(input())\n",
    "\n",
    "for i in range(1,n+1):\n",
    "    try:\n",
    "        a, *b = input().split()\n",
    "        a = int(a)\n",
    "        b = int(b[0])\n",
    "        print (a//b)\n",
    "    except ZeroDivisionError as e:\n",
    "        print (\"Error Code:\",e)\n",
    "    except ValueError as m:\n",
    "        print (\"Error Code:\",m)"
   ]
  },
  {
   "cell_type": "markdown",
   "metadata": {},
   "source": [
    "### Using strings"
   ]
  },
  {
   "cell_type": "code",
   "execution_count": null,
   "metadata": {},
   "outputs": [],
   "source": [
    "def swap_case(s):\n",
    "    s = list(s)\n",
    "    for i in range(len(s)):\n",
    "        if s[i].isupper():\n",
    "            s[i] = s[i].lower()\n",
    "        else:\n",
    "            s[i] = s[i].upper()\n",
    "    return ''.join(s)"
   ]
  },
  {
   "cell_type": "code",
   "execution_count": 2,
   "metadata": {},
   "outputs": [
    {
     "name": "stdout",
     "output_type": "stream",
     "text": [
      "Convirtiendo un string en una lista\n",
      "['this', 'is', 'a', 'string']\n",
      "Uniendo un string con un separador determinado\n",
      "this-is-a-string\n"
     ]
    }
   ],
   "source": [
    "a = \"this is a string\"\n",
    "a = a.split(\" \") # a is converted to a list of strings. \n",
    "print ('Convirtiendo un string en una lista')\n",
    "print (a)\n",
    "print ('Uniendo un string con un separador determinado')\n",
    "a = \"-\".join(a)\n",
    "print (a)"
   ]
  },
  {
   "cell_type": "code",
   "execution_count": 6,
   "metadata": {},
   "outputs": [
    {
     "name": "stdout",
     "output_type": "stream",
     "text": [
      "HackerRank----------\n",
      "----------HackerRank\n",
      "-----HackerRank-----\n"
     ]
    }
   ],
   "source": [
    "print('HackerRank'.ljust(20,'-'))\n",
    "print('HackerRank'.rjust(20,'-'))\n",
    "print('HackerRank'.center(20,'-'))"
   ]
  },
  {
   "cell_type": "code",
   "execution_count": null,
   "metadata": {},
   "outputs": [],
   "source": [
    "dataframe[\"period\"] = dataframe[\"Year\"].map(str) + dataframe[\"quarter\"]"
   ]
  },
  {
   "cell_type": "markdown",
   "metadata": {},
   "source": [
    "#### Convertir la primera letra a mayuscula"
   ]
  },
  {
   "cell_type": "code",
   "execution_count": 4,
   "metadata": {},
   "outputs": [
    {
     "name": "stdout",
     "output_type": "stream",
     "text": [
      "Camilo\n",
      "El Titulo De Un Libro\n",
      "1 W 2 R 3G\n"
     ]
    }
   ],
   "source": [
    "palabra = 'camilo'\n",
    "oracion = 'el titulo de un libro'\n",
    "print(palabra.capitalize())\n",
    "print(oracion.title())\n",
    "\n",
    "s = '1 w 2 r 3g'\n",
    "print(s.title())"
   ]
  },
  {
   "cell_type": "markdown",
   "metadata": {},
   "source": [
    "## Conversión hexadecimal, octal y binario"
   ]
  },
  {
   "cell_type": "code",
   "execution_count": null,
   "metadata": {},
   "outputs": [],
   "source": [
    "def print_formatted(number):\n",
    "    width = len(\"{0:b}\".format(n))\n",
    "    for i in range(1,number+1):\n",
    "        print(\"{0:{width}d} {0:{width}o} {0:{width}X} {0:{width}b}\".format(i, width=width))"
   ]
  },
  {
   "cell_type": "code",
   "execution_count": 11,
   "metadata": {},
   "outputs": [
    {
     "name": "stdout",
     "output_type": "stream",
     "text": [
      "Este\n",
      "text\n",
      "o se\n",
      "divi\n",
      "de\n",
      "en v\n",
      "aria\n",
      "s pa\n",
      "rtes\n",
      "['Este', 'text', 'o se', 'divi', 'de', 'en v', 'aria', 's pa', 'rtes']\n"
     ]
    }
   ],
   "source": [
    "import textwrap\n",
    "string = 'Este texto se divide en varias partes'\n",
    "max_width = 4\n",
    "print(textwrap.fill(string,max_width))\n",
    "print(textwrap.wrap(string,max_width))"
   ]
  },
  {
   "cell_type": "code",
   "execution_count": null,
   "metadata": {},
   "outputs": [],
   "source": [
    "n=24\n",
    "\n",
    "if n%2 == 1:\n",
    "    print (\"Weird\")\n",
    "else:\n",
    "    if n>=2 and n<=5:\n",
    "        print (\"Not Weird\")\n",
    "        \n",
    "    if n>=6 and n<=20:\n",
    "        print (\"Weird\")\n",
    "        \n",
    "    if n>20:\n",
    "        print (\"Not Weird\")"
   ]
  },
  {
   "cell_type": "code",
   "execution_count": null,
   "metadata": {},
   "outputs": [],
   "source": [
    "for i in range(0,len(s)):\n",
    "        if s[i].isalnum() == True:\n",
    "            alnum = True\n",
    "\n",
    "        if s[i].isalpha() == True:\n",
    "            alpha = True\n",
    "\n",
    "        if s[i].isdigit() == True:\n",
    "            digit = True\n",
    "\n",
    "        if s[i].islower() == True:\n",
    "            lower = True\n",
    "\n",
    "        if s[i].isupper() == True:\n",
    "            upper = True"
   ]
  },
  {
   "cell_type": "code",
   "execution_count": null,
   "metadata": {},
   "outputs": [],
   "source": [
    "l=3\n",
    "r=9\n",
    "\n",
    "answer = list()\n",
    "\n",
    "for n in range(l, r+1):\n",
    "    if n%2 == 1:\n",
    "        answer.append(n)\n",
    "        \n",
    "print (answer)"
   ]
  },
  {
   "cell_type": "code",
   "execution_count": null,
   "metadata": {},
   "outputs": [],
   "source": [
    "a = [5,1,2,3,4,5]\n",
    "\n",
    "def findNumber(arr, k):\n",
    "    b = 0\n",
    "    arr = arr[1:len(arr)]\n",
    "    for n in range(0,len(arr)):\n",
    "        if arr[n] == k:\n",
    "            b = 1\n",
    "            anw = \"YES\"\n",
    "            print (arr[n])\n",
    "            return anw\n",
    "            \n",
    "    if b == 0:\n",
    "        anw = \"NO\"\n",
    "        return anw\n",
    "findNumber(a, 1) "
   ]
  },
  {
   "cell_type": "code",
   "execution_count": null,
   "metadata": {},
   "outputs": [],
   "source": [
    "n = int(input())\n",
    "arr = map(int, input().split())\n",
    "arr = list(arr)\n",
    "max = arr[0]\n",
    "second = 0\n",
    "\n",
    "for i in range(1,len(arr)):\n",
    "    if arr[i] > max:\n",
    "        second = max\n",
    "        max = arr[i]\n",
    "    else:\n",
    "        if abs(arr[i]) > second and arr[i] != max:\n",
    "            second = arr[i]\n",
    "    \n",
    "print(second)"
   ]
  },
  {
   "cell_type": "markdown",
   "metadata": {},
   "source": [
    "### Using dictionaries"
   ]
  },
  {
   "cell_type": "code",
   "execution_count": 1,
   "metadata": {},
   "outputs": [
    {
     "name": "stdout",
     "output_type": "stream",
     "text": [
      "6\n",
      "6 55\n",
      "6 45\n",
      "4 6\n",
      "5 56\n",
      "2 87\n",
      "7 78\n",
      "327\n"
     ]
    }
   ],
   "source": [
    "from collections import Counter\n",
    "\n",
    "X = 10\n",
    "N = [2,3,4,5,6,8,7,6,5,18]\n",
    "\n",
    "inventario = dict(Counter(N))\n",
    "lista = []\n",
    "ganancia = 0\n",
    "\n",
    "for _ in range(int(input())):\n",
    "    shoe = list(map(int, input().split()))\n",
    "    #print(inventario.get(shoe[0]) is None)\n",
    "    if inventario.get(shoe[0]) is not None:\n",
    "        if inventario.get(shoe[0])>0:\n",
    "            inventario.update({shoe[0]:inventario.get(shoe[0]) - 1})\n",
    "            ganancia = ganancia + shoe[1]\n",
    "\n",
    "print(ganancia)"
   ]
  },
  {
   "cell_type": "code",
   "execution_count": null,
   "metadata": {},
   "outputs": [],
   "source": [
    "    rows_list = []\n",
    "\n",
    "    lista = []\n",
    "    for _ in range(int(input())):\n",
    "        name = input()\n",
    "        score = float(input())\n",
    "        dictionary = [name,score]\n",
    "        rows_list.append(dictionary)\n",
    "\n",
    "    for i in \n",
    "    print(rows_list[:][1])"
   ]
  },
  {
   "cell_type": "code",
   "execution_count": null,
   "metadata": {},
   "outputs": [],
   "source": [
    "import pandas as pd\n",
    "rows_list = []\n",
    "\n",
    "lista = []\n",
    "for _ in range(int(input())):\n",
    "    name = input()\n",
    "    score = float(input())\n",
    "    dictionary = {\"name\":name,\"score\":score}\n",
    "    rows_list.append(dictionary)\n",
    "\n",
    "data = pd.DataFrame(rows_list)\n",
    "print(data[data['score'] == data['score'].max()])"
   ]
  },
  {
   "cell_type": "code",
   "execution_count": null,
   "metadata": {},
   "outputs": [],
   "source": [
    "import math\n",
    "import os\n",
    "import random\n",
    "import re\n",
    "import sys\n",
    "\n",
    "# Complete the hourglassSum function below.\n",
    "def hourglassSum(arr):\n",
    "    maximo = 0\n",
    "\n",
    "    for col in range(0,6):\n",
    "        for fil in range(0,6):\n",
    "            if arr[fil][col] > maximo:\n",
    "                maximo = arr[fil][col]\n",
    "    \n",
    "    if maximo == 0:\n",
    "        maximo = -1000000000\n",
    "    else:\n",
    "        maximo = 0\n",
    "\n",
    "    for col in range(0,4):\n",
    "        for fil in range(0,4):\n",
    "            suma = 0\n",
    "            for j in range(0,3):\n",
    "                if j == 0 or j == 2:\n",
    "                    for i in range(0,3):\n",
    "                        suma += arr[j+fil][i+col]\n",
    "                if j == 1:\n",
    "                    suma += arr[j+fil][1+col]\n",
    "            if suma > maximo:\n",
    "                maximo = suma\n",
    "    return maximo\n",
    "\n",
    "if __name__ == '__main__':\n",
    "    fptr = open(os.environ['OUTPUT_PATH'], 'w')\n",
    "\n",
    "    arr = []\n",
    "\n",
    "    for _ in range(6):\n",
    "        arr.append(list(map(int, input().rstrip().split())))\n",
    "\n",
    "    result = hourglassSum(arr)\n",
    "    fptr.write(str(result) + '\\n')\n",
    "\n",
    "    fptr.close()"
   ]
  },
  {
   "cell_type": "markdown",
   "metadata": {},
   "source": [
    "## Lists use"
   ]
  },
  {
   "cell_type": "code",
   "execution_count": 1,
   "metadata": {},
   "outputs": [
    {
     "name": "stdout",
     "output_type": "stream",
     "text": [
      "2\n",
      "insert 0 5\n",
      "print\n",
      "[5]\n"
     ]
    }
   ],
   "source": [
    "    N = int(input())\n",
    "    lista = []\n",
    "\n",
    "    for _ in range(N):\n",
    "        operation, *line = input().split()\n",
    "        values = list(map(int, line))\n",
    "\n",
    "        if operation == 'insert': \n",
    "            lista.insert(values[0], values[1])\n",
    "        \n",
    "        if operation == 'print': \n",
    "            print(lista)\n",
    "\n",
    "        if operation == 'remove': \n",
    "            lista.remove(values[0])\n",
    "        \n",
    "        if operation == 'pop': \n",
    "            lista.pop(len(lista)-1)\n",
    "\n",
    "        if operation == 'append': \n",
    "            lista.append(values[0])\n",
    "\n",
    "        if operation == 'sort': \n",
    "            lista = sorted(lista)\n",
    "        \n",
    "        if operation == 'reverse': \n",
    "            lista.reverse()"
   ]
  },
  {
   "cell_type": "code",
   "execution_count": null,
   "metadata": {},
   "outputs": [],
   "source": [
    "_x = input()\n",
    "_x = list(map(float, _x.split(',')))"
   ]
  }
 ],
 "metadata": {
  "kernelspec": {
   "display_name": "Python 3",
   "language": "python",
   "name": "python3"
  },
  "language_info": {
   "codemirror_mode": {
    "name": "ipython",
    "version": 3
   },
   "file_extension": ".py",
   "mimetype": "text/x-python",
   "name": "python",
   "nbconvert_exporter": "python",
   "pygments_lexer": "ipython3",
   "version": "3.7.3"
  }
 },
 "nbformat": 4,
 "nbformat_minor": 2
}
